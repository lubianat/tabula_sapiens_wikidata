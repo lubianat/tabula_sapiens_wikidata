{
 "cells": [
  {
   "cell_type": "code",
   "execution_count": 9,
   "metadata": {},
   "outputs": [],
   "source": []
  },
  {
   "cell_type": "code",
   "execution_count": 10,
   "metadata": {},
   "outputs": [
    {
     "name": "stdout",
     "output_type": "stream",
     "text": [
      "mv: cannot stat '/home/lubianat/Downloads/*.h5ad': No such file or directory\n"
     ]
    }
   ],
   "source": []
  },
  {
   "cell_type": "code",
   "execution_count": 6,
   "metadata": {},
   "outputs": [],
   "source": []
  },
  {
   "cell_type": "code",
   "execution_count": 8,
   "metadata": {},
   "outputs": [],
   "source": []
  },
  {
   "cell_type": "code",
   "execution_count": 72,
   "metadata": {},
   "outputs": [],
   "source": [
    "Annotation_x_Anatomical_x_Organ = metadata[\"Annotation\"].astype(str) \\\n",
    "+ \" of the \" + metadata[\"Anatomical Information\"].astype(str)\\\n",
    "+ \" \" + metadata[\"Organ\"].astype(str)\n"
   ]
  },
  {
   "cell_type": "code",
   "execution_count": 73,
   "metadata": {},
   "outputs": [],
   "source": [
    "Annotation_x_Anatomical_x_Organ = [\"human \" + term.replace(\"_\", \" \").lower().replace(\"nan \",\"\") for term in Annotation_x_Anatomical_x_Organ]"
   ]
  },
  {
   "cell_type": "code",
   "execution_count": 74,
   "metadata": {},
   "outputs": [
    {
     "data": {
      "text/plain": [
       "{'human b cell of the distal small intestine',\n",
       " 'human b cell of the proximal small intestine',\n",
       " 'human cd8-positive, alpha-beta t cell of the distal small intestine',\n",
       " 'human cd8-positive, alpha-beta t cell of the proximal small intestine',\n",
       " 'human duodenum glandular cell of the proximal small intestine',\n",
       " 'human duodenum glandular cell of the small intestine',\n",
       " 'human fibroblast of the proximal small intestine',\n",
       " 'human fibroblast of the small intestine',\n",
       " 'human goblet cell of the distal small intestine',\n",
       " 'human goblet cell of the proximal small intestine',\n",
       " 'human goblet cell of the small intestine',\n",
       " 'human gut endothelial cell of the distal small intestine',\n",
       " 'human gut endothelial cell of the proximal small intestine',\n",
       " 'human immature enterocyte of the distal small intestine',\n",
       " 'human immature enterocyte of the proximal small intestine',\n",
       " 'human immature enterocyte of the small intestine',\n",
       " 'human intestinal crypt stem cell of the distal small intestine',\n",
       " 'human intestinal crypt stem cell of the proximal small intestine',\n",
       " 'human intestinal crypt stem cell of the small intestine',\n",
       " 'human intestinal enteroendocrine cell of the distal small intestine',\n",
       " 'human intestinal enteroendocrine cell of the proximal small intestine',\n",
       " 'human intestinal enteroendocrine cell of the small intestine',\n",
       " 'human intestinal transient amplifying cell of the distal small intestine',\n",
       " 'human intestinal transient amplifying cell of the proximal small intestine',\n",
       " 'human intestinal transient amplifying cell of the small intestine',\n",
       " 'human intestinal tuft cell of the distal small intestine',\n",
       " 'human intestinal tuft cell of the proximal small intestine',\n",
       " 'human mature enterocyte of the distal small intestine',\n",
       " 'human mature enterocyte of the proximal small intestine',\n",
       " 'human mature enterocyte of the small intestine',\n",
       " 'human neutrophil of the small intestine',\n",
       " 'human paneth cell of epithelium of small intestine of the distal small intestine',\n",
       " 'human paneth cell of epithelium of small intestine of the proximal small intestine',\n",
       " 'human paneth cell of epithelium of small intestine of the small intestine'}"
      ]
     },
     "execution_count": 74,
     "metadata": {},
     "output_type": "execute_result"
    }
   ],
   "source": [
    "set(Annotation_x_Anatomical_x_Organ )"
   ]
  },
  {
   "cell_type": "code",
   "execution_count": 78,
   "metadata": {},
   "outputs": [],
   "source": [
    "metadata[\"Expanded Annotation\"] = Annotation_x_Anatomical_x_Organ"
   ]
  },
  {
   "cell_type": "markdown",
   "metadata": {},
   "source": [
    "Match of cell types to Wikidata done externally:\n",
    "\n",
    "- Transfer of the list to a Google Sheets:\n",
    "- Identification/creation of unique identifiers on Wikidata\n"
   ]
  },
  {
   "cell_type": "code",
   "execution_count": 86,
   "metadata": {},
   "outputs": [],
   "source": [
    "import pandas as pd\n",
    "df = pd.DataFrame(list(set(Annotation_x_Anatomical_x_Organ)), columns=[\"colummn\"])\n",
    "df.to_csv('list.csv', index=False)"
   ]
  },
  {
   "cell_type": "code",
   "execution_count": 90,
   "metadata": {},
   "outputs": [
    {
     "name": "stdout",
     "output_type": "stream",
     "text": [
      "mv: cannot stat '/home/lubianat/Downloads/Tabula Sapiens Wikidata Curation.xlsx': No such file or directory\n"
     ]
    }
   ],
   "source": [
    "! mv /home/lubianat/Downloads/Tabula\\ Sapiens\\ Wikidata\\ Curation.xlsx .\n",
    "reconciled_table = pd.read_excel(\"Tabula Sapiens Wikidata Curation.xlsx\", sheet_name=\"small_intestine\")\n"
   ]
  },
  {
   "cell_type": "code",
   "execution_count": 92,
   "metadata": {},
   "outputs": [],
   "source": [
    "small_intestine_dict = {}\n",
    "\n",
    "for i, row in reconciled_table.iterrows():\n",
    "    small_intestine_dict[row[\"id\"]] = row[\"QID\"]"
   ]
  },
  {
   "cell_type": "code",
   "execution_count": 94,
   "metadata": {},
   "outputs": [],
   "source": [
    "metadata[\"Wikidata ID\"] = metadata[\"Expanded Annotation\"].map(small_intestine_dict)"
   ]
  },
  {
   "cell_type": "code",
   "execution_count": 3,
   "metadata": {},
   "outputs": [
    {
     "ename": "NameError",
     "evalue": "name 'metadata' is not defined",
     "output_type": "error",
     "traceback": [
      "\u001b[0;31m---------------------------------------------------------------------------\u001b[0m",
      "\u001b[0;31mNameError\u001b[0m                                 Traceback (most recent call last)",
      "\u001b[0;32m<ipython-input-3-e8004a448908>\u001b[0m in \u001b[0;36m<module>\u001b[0;34m\u001b[0m\n\u001b[0;32m----> 1\u001b[0;31m \u001b[0mmetadata\u001b[0m\u001b[0;34m.\u001b[0m\u001b[0mto_csv\u001b[0m\u001b[0;34m(\u001b[0m\u001b[0;34m\"annotations/small_intestine_tabula_sapiens_metadata.csv\"\u001b[0m\u001b[0;34m)\u001b[0m\u001b[0;34m\u001b[0m\u001b[0;34m\u001b[0m\u001b[0m\n\u001b[0m",
      "\u001b[0;31mNameError\u001b[0m: name 'metadata' is not defined"
     ]
    }
   ],
   "source": [
    "metadata.to_csv(\"annotations/small_intestine_tabula_sapiens_metadata_wikidata.csv\")"
   ]
  },
  {
   "cell_type": "code",
   "execution_count": null,
   "metadata": {},
   "outputs": [],
   "source": []
  }
 ],
 "metadata": {
  "kernelspec": {
   "display_name": "Python 3",
   "language": "python",
   "name": "python3"
  },
  "language_info": {
   "codemirror_mode": {
    "name": "ipython",
    "version": 3
   },
   "file_extension": ".py",
   "mimetype": "text/x-python",
   "name": "python",
   "nbconvert_exporter": "python",
   "pygments_lexer": "ipython3",
   "version": "3.6.9"
  }
 },
 "nbformat": 4,
 "nbformat_minor": 4
}
