{
 "cells": [
  {
   "cell_type": "code",
   "execution_count": 1,
   "metadata": {},
   "outputs": [],
   "source": [
    "import pandas as pd\n",
    "! mv /home/lubianat/Downloads/Tabula\\ Sapiens\\ Wikidata\\ Curation.xlsx ."
   ]
  },
  {
   "cell_type": "code",
   "execution_count": 5,
   "metadata": {},
   "outputs": [],
   "source": [
    "table_to_create = pd.read_excel(\"Tabula Sapiens Wikidata Curation.xlsx\", sheet_name=\"new_classes\")"
   ]
  },
  {
   "cell_type": "code",
   "execution_count": 7,
   "metadata": {},
   "outputs": [
    {
     "name": "stdout",
     "output_type": "stream",
     "text": [
      "mature enterocyte of the small intestine\n",
      "cd8-positive, alpha-beta t cell of the proximal small intestine\n",
      "intestinal enteroendocrine cell of the small intestine\n",
      "paneth cell of epithelium of small intestine of the proximal small intestine\n",
      "mature enterocyte of the distal small intestine\n",
      "mature enterocyte of the proximal small intestine\n",
      "cd8-positive, alpha-beta t cell of the distal small intestine\n",
      "intestinal transient amplifying cell of the small intestine\n",
      "paneth cell of epithelium of small intestine of the distal small intestine\n",
      "intestinal enteroendocrine cell of the proximal small intestine\n",
      "immature enterocyte of the distal small intestine\n",
      "gut endothelial cell of the distal small intestine\n",
      "intestinal crypt stem cell of the small intestine\n",
      "intestinal enteroendocrine cell of the distal small intestine\n",
      "intestinal tuft cell of the distal small intestine\n",
      "intestinal transient amplifying cell of the proximal small intestine\n",
      "immature enterocyte of the small intestine\n",
      "intestinal tuft cell of the proximal small intestine\n",
      "intestinal crypt stem cell of the proximal small intestine\n",
      "duodenum glandular cell of the proximal small intestine\n",
      "immature enterocyte of the proximal small intestine\n",
      "intestinal crypt stem cell of the distal small intestine\n",
      "gut endothelial cell of the proximal small intestine\n",
      "b cell of the distal small intestine\n",
      "intestinal transient amplifying cell of the distal small intestine\n",
      "b cell of the proximal small intestine\n",
      "goblet cell of the distal small intestine\n",
      "fibroblast of the proximal small intestine\n",
      "human mature enterocyte of the small intestine\n",
      "human cd8-positive, alpha-beta t cell of the proximal small intestine\n",
      "human intestinal enteroendocrine cell of the small intestine\n",
      "human paneth cell of epithelium of small intestine of the proximal small intestine\n",
      "human mature enterocyte of the distal small intestine\n",
      "human mature enterocyte of the proximal small intestine\n",
      "human cd8-positive, alpha-beta t cell of the distal small intestine\n",
      "human goblet cell of the proximal small intestine\n",
      "human goblet cell of the small intestine\n",
      "human duodenum glandular cell of the small intestine\n",
      "human intestinal transient amplifying cell of the small intestine\n",
      "human paneth cell of epithelium of small intestine of the distal small intestine\n",
      "human intestinal enteroendocrine cell of the proximal small intestine\n",
      "human immature enterocyte of the distal small intestine\n",
      "human gut endothelial cell of the distal small intestine\n",
      "human intestinal crypt stem cell of the small intestine\n",
      "human fibroblast of the small intestine\n",
      "human intestinal enteroendocrine cell of the distal small intestine\n",
      "human intestinal tuft cell of the distal small intestine\n",
      "human intestinal transient amplifying cell of the proximal small intestine\n",
      "human immature enterocyte of the small intestine\n",
      "human intestinal tuft cell of the proximal small intestine\n",
      "human intestinal crypt stem cell of the proximal small intestine\n",
      "human duodenum glandular cell of the proximal small intestine\n",
      "human immature enterocyte of the proximal small intestine\n",
      "human intestinal crypt stem cell of the distal small intestine\n",
      "human neutrophil of the small intestine\n",
      "human gut endothelial cell of the proximal small intestine\n",
      "human b cell of the distal small intestine\n",
      "human intestinal transient amplifying cell of the distal small intestine\n",
      "human b cell of the proximal small intestine\n",
      "human goblet cell of the distal small intestine\n",
      "human fibroblast of the proximal small intestine\n",
      "human paneth cell of epithelium of small intestine of the small intestine\n"
     ]
    }
   ],
   "source": [
    "for i, row in table_to_create.iterrows():\n",
    "    if str(row[\"QID\"]) == \"nan\":\n",
    "        if  str(row[\"subclass of\"]) != \"nan\":\n",
    "            print(\"CREATE\")\n",
    "            print(f'LAST|Len|\"{row[\"label\"]}\"')\n",
    "            print(f'LAST|Den|\"{row[\"description\"]}\"')\n",
    "            print(f'LAST|Aen|\"{row[\"aliases\"]}\"')\n",
    "            print(f'LAST|P31|{row[\"instance of\"]}')\n",
    "            print(f'LAST|P361|{row[\"part of\"]}')\n",
    "            print(f'LAST|P279|{row[\"subclass of\"]}')"
   ]
  },
  {
   "cell_type": "code",
   "execution_count": null,
   "metadata": {},
   "outputs": [],
   "source": []
  }
 ],
 "metadata": {
  "kernelspec": {
   "display_name": "Python 3",
   "language": "python",
   "name": "python3"
  },
  "language_info": {
   "codemirror_mode": {
    "name": "ipython",
    "version": 3
   },
   "file_extension": ".py",
   "mimetype": "text/x-python",
   "name": "python",
   "nbconvert_exporter": "python",
   "pygments_lexer": "ipython3",
   "version": "3.6.9"
  }
 },
 "nbformat": 4,
 "nbformat_minor": 4
}
